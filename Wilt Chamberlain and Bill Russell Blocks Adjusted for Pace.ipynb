{
 "cells": [
  {
   "cell_type": "code",
   "execution_count": 1,
   "metadata": {},
   "outputs": [],
   "source": [
    "import numpy as np\n",
    "import pandas as pd"
   ]
  },
  {
   "cell_type": "code",
   "execution_count": 3,
   "metadata": {},
   "outputs": [],
   "source": [
    "reg_season = pd.read_csv(r'..\\Adjusted for Pace\\leagueleaders_LeagueLeaders__LeagueID-00_PerMode-PerGame_StatCategory-BLK_Season-All Time_SeasonType-Regular Season_Scope-S_ActiveFlag-No.csv')\n",
    "playoffs = pd.read_csv(r'..\\Adjusted for Pace\\leagueleaders_LeagueLeaders__LeagueID-00_PerMode-PerGame_StatCategory-BLK_Season-All Time_SeasonType-Playoffs_Scope-S_ActiveFlag-No.csv')"
   ]
  },
  {
   "cell_type": "code",
   "execution_count": 5,
   "metadata": {},
   "outputs": [],
   "source": [
    "playoffs = playoffs[['PLAYER_ID','PLAYER_NAME','BLK','BLK_RANK']]"
   ]
  },
  {
   "cell_type": "code",
   "execution_count": 6,
   "metadata": {},
   "outputs": [],
   "source": [
    "reg_season = reg_season[['PLAYER_ID','PLAYER_NAME','BLK','BLK_RANK']]"
   ]
  },
  {
   "cell_type": "code",
   "execution_count": 7,
   "metadata": {},
   "outputs": [],
   "source": [
    "def add_two(x):\n",
    "    return x + 2"
   ]
  },
  {
   "cell_type": "code",
   "execution_count": 10,
   "metadata": {},
   "outputs": [],
   "source": [
    "playoffs = playoffs.dropna(how='any')\n",
    "reg_season = reg_season.dropna(how='any')"
   ]
  },
  {
   "cell_type": "code",
   "execution_count": 11,
   "metadata": {},
   "outputs": [],
   "source": [
    "playoffs['BLK_RANK'] = playoffs['BLK_RANK'].apply(add_two)\n",
    "reg_season[\"BLK_RANK\"] = reg_season['BLK_RANK'].apply(add_two)"
   ]
  },
  {
   "cell_type": "code",
   "execution_count": 22,
   "metadata": {},
   "outputs": [],
   "source": [
    "# Function to adjust stats for pace over eras\n",
    "pace_2020 = 100.2\n",
    "adj_stat=[]\n",
    "def adjust_for_pace(stat,old_pace):\n",
    "    adj_stat = stat*(pace_2020/old_pace)\n",
    "    return adj_stat"
   ]
  },
  {
   "cell_type": "code",
   "execution_count": 26,
   "metadata": {},
   "outputs": [],
   "source": [
    "brp = adjust_for_pace(7.7,120.24)"
   ]
  },
  {
   "cell_type": "code",
   "execution_count": 27,
   "metadata": {},
   "outputs": [],
   "source": [
    "brs = adjust_for_pace(8.6,120.24)"
   ]
  },
  {
   "cell_type": "code",
   "execution_count": 28,
   "metadata": {},
   "outputs": [],
   "source": [
    "wcp = adjust_for_pace(8.3,119.6)"
   ]
  },
  {
   "cell_type": "code",
   "execution_count": 29,
   "metadata": {},
   "outputs": [],
   "source": [
    "wcs = adjust_for_pace(8.8, 119.6)"
   ]
  },
  {
   "cell_type": "code",
   "execution_count": 30,
   "metadata": {},
   "outputs": [],
   "source": [
    "brp_row = pd.DataFrame({'PLAYER_ID' : [222], 'PLAYER_NAME' : [\"Bill Russell\"], 'BLK' : [brp], 'BLK_RANK' : [2]})\n",
    "wcp_row = pd.DataFrame({'PLAYER_ID' : [111], 'PLAYER_NAME' : [\"Wilt Chamberlain\"], 'BLK' : [wcp], 'BLK_RANK' : [1]})\n",
    "brs_row = pd.DataFrame({'PLAYER_ID' : [222], 'PLAYER_NAME' : [\"Bill Russell\"], 'BLK' : [brs], 'BLK_RANK' : [2]})\n",
    "wcs_row = pd.DataFrame({'PLAYER_ID' : [111], 'PLAYER_NAME' : ['Wilt Chamberlain'], 'BLK' : [wcs], 'BLK_RANK' : [1]})"
   ]
  },
  {
   "cell_type": "code",
   "execution_count": 31,
   "metadata": {},
   "outputs": [],
   "source": [
    "adj_playoffs = pd.concat([brp_row, playoffs])"
   ]
  },
  {
   "cell_type": "code",
   "execution_count": 32,
   "metadata": {},
   "outputs": [],
   "source": [
    "adj_playoffs = pd.concat([wcp_row, adj_playoffs])"
   ]
  },
  {
   "cell_type": "code",
   "execution_count": 33,
   "metadata": {},
   "outputs": [],
   "source": [
    "adj_reg_season = pd.concat([brs_row, reg_season])"
   ]
  },
  {
   "cell_type": "code",
   "execution_count": 34,
   "metadata": {},
   "outputs": [],
   "source": [
    "adj_reg_season = pd.concat([wcs_row, adj_reg_season])"
   ]
  },
  {
   "cell_type": "code",
   "execution_count": 35,
   "metadata": {},
   "outputs": [
    {
     "data": {
      "text/html": [
       "<div>\n",
       "<style scoped>\n",
       "    .dataframe tbody tr th:only-of-type {\n",
       "        vertical-align: middle;\n",
       "    }\n",
       "\n",
       "    .dataframe tbody tr th {\n",
       "        vertical-align: top;\n",
       "    }\n",
       "\n",
       "    .dataframe thead th {\n",
       "        text-align: right;\n",
       "    }\n",
       "</style>\n",
       "<table border=\"1\" class=\"dataframe\">\n",
       "  <thead>\n",
       "    <tr style=\"text-align: right;\">\n",
       "      <th></th>\n",
       "      <th>PLAYER_ID</th>\n",
       "      <th>PLAYER_NAME</th>\n",
       "      <th>BLK</th>\n",
       "      <th>BLK_RANK</th>\n",
       "    </tr>\n",
       "  </thead>\n",
       "  <tbody>\n",
       "    <tr>\n",
       "      <th>0</th>\n",
       "      <td>111</td>\n",
       "      <td>Wilt Chamberlain</td>\n",
       "      <td>7.372575</td>\n",
       "      <td>1</td>\n",
       "    </tr>\n",
       "    <tr>\n",
       "      <th>0</th>\n",
       "      <td>222</td>\n",
       "      <td>Bill Russell</td>\n",
       "      <td>7.166667</td>\n",
       "      <td>2</td>\n",
       "    </tr>\n",
       "    <tr>\n",
       "      <th>0</th>\n",
       "      <td>76631</td>\n",
       "      <td>Mark Eaton</td>\n",
       "      <td>3.501710</td>\n",
       "      <td>3</td>\n",
       "    </tr>\n",
       "    <tr>\n",
       "      <th>1</th>\n",
       "      <td>76195</td>\n",
       "      <td>Manute Bol</td>\n",
       "      <td>3.342950</td>\n",
       "      <td>4</td>\n",
       "    </tr>\n",
       "    <tr>\n",
       "      <th>2</th>\n",
       "      <td>165</td>\n",
       "      <td>Hakeem Olajuwon</td>\n",
       "      <td>3.093700</td>\n",
       "      <td>5</td>\n",
       "    </tr>\n",
       "    <tr>\n",
       "      <th>...</th>\n",
       "      <td>...</td>\n",
       "      <td>...</td>\n",
       "      <td>...</td>\n",
       "      <td>...</td>\n",
       "    </tr>\n",
       "    <tr>\n",
       "      <th>1161</th>\n",
       "      <td>1521</td>\n",
       "      <td>Jacque Vaughn</td>\n",
       "      <td>0.019330</td>\n",
       "      <td>1164</td>\n",
       "    </tr>\n",
       "    <tr>\n",
       "      <th>1162</th>\n",
       "      <td>1731</td>\n",
       "      <td>Tyronn Lue</td>\n",
       "      <td>0.018050</td>\n",
       "      <td>1165</td>\n",
       "    </tr>\n",
       "    <tr>\n",
       "      <th>1163</th>\n",
       "      <td>78279</td>\n",
       "      <td>Jon Sundvold</td>\n",
       "      <td>0.009960</td>\n",
       "      <td>1166</td>\n",
       "    </tr>\n",
       "    <tr>\n",
       "      <th>1164</th>\n",
       "      <td>76107</td>\n",
       "      <td>Dick Barnett</td>\n",
       "      <td>0.000000</td>\n",
       "      <td>1167</td>\n",
       "    </tr>\n",
       "    <tr>\n",
       "      <th>1165</th>\n",
       "      <td>77198</td>\n",
       "      <td>Wali Jones</td>\n",
       "      <td>0.000000</td>\n",
       "      <td>1167</td>\n",
       "    </tr>\n",
       "  </tbody>\n",
       "</table>\n",
       "<p>1168 rows × 4 columns</p>\n",
       "</div>"
      ],
      "text/plain": [
       "      PLAYER_ID       PLAYER_NAME       BLK  BLK_RANK\n",
       "0           111  Wilt Chamberlain  7.372575         1\n",
       "0           222      Bill Russell  7.166667         2\n",
       "0         76631        Mark Eaton  3.501710         3\n",
       "1         76195        Manute Bol  3.342950         4\n",
       "2           165   Hakeem Olajuwon  3.093700         5\n",
       "...         ...               ...       ...       ...\n",
       "1161       1521     Jacque Vaughn  0.019330      1164\n",
       "1162       1731        Tyronn Lue  0.018050      1165\n",
       "1163      78279      Jon Sundvold  0.009960      1166\n",
       "1164      76107      Dick Barnett  0.000000      1167\n",
       "1165      77198        Wali Jones  0.000000      1167\n",
       "\n",
       "[1168 rows x 4 columns]"
      ]
     },
     "execution_count": 35,
     "metadata": {},
     "output_type": "execute_result"
    }
   ],
   "source": [
    "adj_reg_season"
   ]
  },
  {
   "cell_type": "code",
   "execution_count": 36,
   "metadata": {},
   "outputs": [
    {
     "data": {
      "text/html": [
       "<div>\n",
       "<style scoped>\n",
       "    .dataframe tbody tr th:only-of-type {\n",
       "        vertical-align: middle;\n",
       "    }\n",
       "\n",
       "    .dataframe tbody tr th {\n",
       "        vertical-align: top;\n",
       "    }\n",
       "\n",
       "    .dataframe thead th {\n",
       "        text-align: right;\n",
       "    }\n",
       "</style>\n",
       "<table border=\"1\" class=\"dataframe\">\n",
       "  <thead>\n",
       "    <tr style=\"text-align: right;\">\n",
       "      <th></th>\n",
       "      <th>PLAYER_ID</th>\n",
       "      <th>PLAYER_NAME</th>\n",
       "      <th>BLK</th>\n",
       "      <th>BLK_RANK</th>\n",
       "    </tr>\n",
       "  </thead>\n",
       "  <tbody>\n",
       "    <tr>\n",
       "      <th>0</th>\n",
       "      <td>111</td>\n",
       "      <td>Wilt Chamberlain</td>\n",
       "      <td>6.953679</td>\n",
       "      <td>1</td>\n",
       "    </tr>\n",
       "    <tr>\n",
       "      <th>0</th>\n",
       "      <td>222</td>\n",
       "      <td>Bill Russell</td>\n",
       "      <td>6.416667</td>\n",
       "      <td>2</td>\n",
       "    </tr>\n",
       "    <tr>\n",
       "      <th>0</th>\n",
       "      <td>165</td>\n",
       "      <td>Hakeem Olajuwon</td>\n",
       "      <td>3.255170</td>\n",
       "      <td>3</td>\n",
       "    </tr>\n",
       "    <tr>\n",
       "      <th>1</th>\n",
       "      <td>76631</td>\n",
       "      <td>Mark Eaton</td>\n",
       "      <td>2.837840</td>\n",
       "      <td>4</td>\n",
       "    </tr>\n",
       "    <tr>\n",
       "      <th>2</th>\n",
       "      <td>76195</td>\n",
       "      <td>Manute Bol</td>\n",
       "      <td>2.655170</td>\n",
       "      <td>5</td>\n",
       "    </tr>\n",
       "    <tr>\n",
       "      <th>...</th>\n",
       "      <td>...</td>\n",
       "      <td>...</td>\n",
       "      <td>...</td>\n",
       "      <td>...</td>\n",
       "    </tr>\n",
       "    <tr>\n",
       "      <th>2058</th>\n",
       "      <td>201974</td>\n",
       "      <td>Derrick Brown</td>\n",
       "      <td>0.000000</td>\n",
       "      <td>1489</td>\n",
       "    </tr>\n",
       "    <tr>\n",
       "      <th>2059</th>\n",
       "      <td>2853</td>\n",
       "      <td>Earl Barron</td>\n",
       "      <td>0.000000</td>\n",
       "      <td>1489</td>\n",
       "    </tr>\n",
       "    <tr>\n",
       "      <th>2060</th>\n",
       "      <td>202356</td>\n",
       "      <td>Armon Johnson</td>\n",
       "      <td>0.000000</td>\n",
       "      <td>1489</td>\n",
       "    </tr>\n",
       "    <tr>\n",
       "      <th>2061</th>\n",
       "      <td>203517</td>\n",
       "      <td>Nemanja Nedovic</td>\n",
       "      <td>0.000000</td>\n",
       "      <td>1489</td>\n",
       "    </tr>\n",
       "    <tr>\n",
       "      <th>2062</th>\n",
       "      <td>202729</td>\n",
       "      <td>Josh Selby</td>\n",
       "      <td>0.000000</td>\n",
       "      <td>1489</td>\n",
       "    </tr>\n",
       "  </tbody>\n",
       "</table>\n",
       "<p>2063 rows × 4 columns</p>\n",
       "</div>"
      ],
      "text/plain": [
       "      PLAYER_ID       PLAYER_NAME       BLK  BLK_RANK\n",
       "0           111  Wilt Chamberlain  6.953679         1\n",
       "0           222      Bill Russell  6.416667         2\n",
       "0           165   Hakeem Olajuwon  3.255170         3\n",
       "1         76631        Mark Eaton  2.837840         4\n",
       "2         76195        Manute Bol  2.655170         5\n",
       "...         ...               ...       ...       ...\n",
       "2058     201974     Derrick Brown  0.000000      1489\n",
       "2059       2853       Earl Barron  0.000000      1489\n",
       "2060     202356     Armon Johnson  0.000000      1489\n",
       "2061     203517   Nemanja Nedovic  0.000000      1489\n",
       "2062     202729        Josh Selby  0.000000      1489\n",
       "\n",
       "[2063 rows x 4 columns]"
      ]
     },
     "execution_count": 36,
     "metadata": {},
     "output_type": "execute_result"
    }
   ],
   "source": [
    "adj_playoffs"
   ]
  },
  {
   "cell_type": "code",
   "execution_count": 37,
   "metadata": {},
   "outputs": [],
   "source": [
    "adj_playoffs.to_csv(r'C:\\Users\\User\\Desktop\\Python\\Projects\\Self\\Wilt and Russell Blocks\\Adjusted for Pace\\adjusted_wilt_bill_playoff_blocks.csv')"
   ]
  },
  {
   "cell_type": "code",
   "execution_count": 38,
   "metadata": {},
   "outputs": [],
   "source": [
    "adj_reg_season.to_csv(r'C:\\Users\\User\\Desktop\\Python\\Projects\\Self\\Wilt and Russell Blocks\\Adjusted for Pace\\adjusted_wilt_bill_season_blocks.csv')"
   ]
  },
  {
   "cell_type": "code",
   "execution_count": 39,
   "metadata": {},
   "outputs": [],
   "source": [
    "adj_playoffs.head(20).to_csv(r'C:\\Users\\User\\Desktop\\Python\\Projects\\Self\\Wilt and Russell Blocks\\Adjusted for Pace\\adjusted_top20_playoff_blocks.csv')"
   ]
  },
  {
   "cell_type": "code",
   "execution_count": 40,
   "metadata": {},
   "outputs": [],
   "source": [
    "adj_reg_season.head(20).to_csv(r'C:\\Users\\User\\Desktop\\Python\\Projects\\Self\\Wilt and Russell Blocks\\Adjusted for Pace\\adjusted_top20_season_blocks.csv')"
   ]
  },
  {
   "cell_type": "code",
   "execution_count": null,
   "metadata": {},
   "outputs": [],
   "source": []
  }
 ],
 "metadata": {
  "kernelspec": {
   "display_name": "Python 3",
   "language": "python",
   "name": "python3"
  },
  "language_info": {
   "codemirror_mode": {
    "name": "ipython",
    "version": 3
   },
   "file_extension": ".py",
   "mimetype": "text/x-python",
   "name": "python",
   "nbconvert_exporter": "python",
   "pygments_lexer": "ipython3",
   "version": "3.7.6"
  }
 },
 "nbformat": 4,
 "nbformat_minor": 4
}
